{
 "cells": [
  {
   "cell_type": "code",
   "execution_count": 2,
   "metadata": {},
   "outputs": [],
   "source": [
    "######################################################\n",
    "#    FIS616 Introdução à Computação em Física\n",
    "#\n",
    "#                   01/2020\n",
    "#\n",
    "#           \n",
    "#           \n",
    "#           Prof. V.B. Nascimento\n",
    "#                   @UFMG\n",
    "#\n",
    "#  \n",
    "######################################################\n",
    "\n",
    "######################################################################################################\n",
    "# ALUNO : JOAO LUCAS RODRIGUES\n",
    "# MATRÍCULA : 2018116112\n",
    "# TURMA : TM\n",
    "######################################################################################################\n",
    "\n",
    "######################################################\n",
    "#\n",
    "#               Atividade Avaliativa 10 \n",
    "#      \n",
    "#              Algoritmos de ordenamento\n",
    "######################################################"
   ]
  },
  {
   "cell_type": "code",
   "execution_count": 2,
   "metadata": {},
   "outputs": [
    {
     "name": "stdout",
     "output_type": "stream",
     "text": [
      "[2, 6, 11, 19, 27, 31, 45, 121]\n"
     ]
    }
   ],
   "source": [
    "# Bubble Sort\n",
    "def bubblesort(list):\n",
    "\n",
    "# Swap the elements to arrange in order\n",
    "    for iter_num in range(len(list)-1,0,-1):\n",
    "        for idx in range(iter_num):\n",
    "            if list[idx]>list[idx+1]:\n",
    "                temp = list[idx]\n",
    "                list[idx] = list[idx+1]\n",
    "                list[idx+1] = temp\n",
    "\n",
    "\n",
    "list = [19,2,31,45,6,11,121,27]\n",
    "bubblesort(list)\n",
    "print(list)"
   ]
  },
  {
   "cell_type": "code",
   "execution_count": 3,
   "metadata": {},
   "outputs": [
    {
     "name": "stdout",
     "output_type": "stream",
     "text": [
      "[11, 12, 22, 25, 34, 64, 90]\n"
     ]
    }
   ],
   "source": [
    "# Merge Sort\n",
    "\n",
    "def merge_sort(unsorted_list):\n",
    "    if len(unsorted_list) <= 1:\n",
    "        return unsorted_list\n",
    "# Find the middle point and devide it\n",
    "    middle = len(unsorted_list) // 2\n",
    "    left_list = unsorted_list[:middle]\n",
    "    right_list = unsorted_list[middle:]\n",
    "\n",
    "    left_list = merge_sort(left_list)\n",
    "    right_list = merge_sort(right_list)\n",
    "    lista = merge(left_list, right_list)\n",
    "    return lista \n",
    "\n",
    "\n",
    "# Merge the sorted halves\n",
    "\n",
    "def merge(left_half,right_half):\n",
    "\n",
    "    res = []\n",
    "    while len(left_half) != 0 and len(right_half) != 0:\n",
    "        if left_half[0] < right_half[0]:\n",
    "            res.append(left_half[0])\n",
    "            left_half.remove(left_half[0])\n",
    "        else:\n",
    "            res.append(right_half[0])\n",
    "            right_half.remove(right_half[0])\n",
    "    if len(left_half) == 0:\n",
    "        res = res + right_half\n",
    "    else:\n",
    "        res = res + left_half\n",
    "    return res\n",
    "\n",
    "unsorted_list = [64, 34, 25, 12, 22, 11, 90]\n",
    "\n",
    "print(merge_sort(unsorted_list))"
   ]
  },
  {
   "cell_type": "code",
   "execution_count": 4,
   "metadata": {},
   "outputs": [
    {
     "name": "stdout",
     "output_type": "stream",
     "text": [
      "[2, 11, 19, 27, 30, 31, 45, 121]\n"
     ]
    }
   ],
   "source": [
    "# Insertion Sort\n",
    "def insertion_sort(InputList):\n",
    "    for i in range(1, len(InputList)):\n",
    "        j = i-1\n",
    "        nxt_element = InputList[i]\n",
    "# Compare the current element with next one\n",
    "\n",
    "        while (InputList[j] > nxt_element) and (j >= 0):\n",
    "            InputList[j+1] = InputList[j]\n",
    "            j=j-1\n",
    "        InputList[j+1] = nxt_element\n",
    "\n",
    "list = [19,2,31,45,30,11,121,27]\n",
    "insertion_sort(list)\n",
    "print(list)"
   ]
  },
  {
   "cell_type": "code",
   "execution_count": 5,
   "metadata": {},
   "outputs": [
    {
     "name": "stdout",
     "output_type": "stream",
     "text": [
      "[2, 11, 19, 27, 30, 31, 45, 121]\n"
     ]
    }
   ],
   "source": [
    "# Shell Sort\n",
    "def shellSort(input_list):\n",
    "    \n",
    "    gap = len(input_list) // 2\n",
    "    while gap > 0:\n",
    "\n",
    "        for i in range(gap, len(input_list)):\n",
    "            temp = input_list[i]\n",
    "            j = i\n",
    "# Sort the sub list for this gap\n",
    "\n",
    "            while j >= gap and input_list[j - gap] > temp:\n",
    "                input_list[j] = input_list[j - gap]\n",
    "                j = j-gap\n",
    "            input_list[j] = temp\n",
    "\n",
    "# Reduce the gap for the next element\n",
    "\n",
    "        gap = gap//2\n",
    "\n",
    "list = [19,2,31,45,30,11,121,27]\n",
    "\n",
    "shellSort(list)\n",
    "print(list)"
   ]
  },
  {
   "cell_type": "code",
   "execution_count": 6,
   "metadata": {},
   "outputs": [
    {
     "name": "stdout",
     "output_type": "stream",
     "text": [
      "[2, 11, 19, 27, 30, 31, 45, 121]\n"
     ]
    }
   ],
   "source": [
    "# Selection Sort\n",
    "def selection_sort(input_list):\n",
    "\n",
    "    for idx in range(len(input_list)):\n",
    "\n",
    "        min_idx = idx\n",
    "        for j in range( idx +1, len(input_list)):\n",
    "            if input_list[min_idx] > input_list[j]:\n",
    "                min_idx = j\n",
    "# Swap the minimum value with the compared value\n",
    "\n",
    "        input_list[idx], input_list[min_idx] = input_list[min_idx], input_list[idx]\n",
    "\n",
    "\n",
    "l = [19,2,31,45,30,11,121,27]\n",
    "selection_sort(l)\n",
    "print(l)"
   ]
  },
  {
   "cell_type": "code",
   "execution_count": 7,
   "metadata": {},
   "outputs": [],
   "source": [
    "import numpy\n",
    "import random \n",
    "import time"
   ]
  },
  {
   "cell_type": "code",
   "execution_count": 15,
   "metadata": {},
   "outputs": [
    {
     "name": "stdout",
     "output_type": "stream",
     "text": [
      "\n",
      " tempo para gerar os conjuntos de vetores aleatorios:\n",
      " 0.20218992233276367\n"
     ]
    }
   ],
   "source": [
    "inicio = time.time()\n",
    "V = []\n",
    "U = []\n",
    "W = []\n",
    "Z = []\n",
    "for i in range(100):\n",
    "    a = random.uniform(0,100)\n",
    "    V.append(a)\n",
    "for i in range(1000):\n",
    "    b = random.uniform(0,1000)\n",
    "    U.append(b)\n",
    "for i in range(10000):\n",
    "    c = random.uniform(0,10000)\n",
    "    V.append(c)\n",
    "for i in range(100000):\n",
    "    d = random.randint(0,10000)\n",
    "    Z.append(d)\n",
    "    \n",
    "fim = time.time()\n",
    "print('\\n tempo para gerar os conjuntos de vetores aleatorios:\\n',fim-inicio)"
   ]
  },
  {
   "cell_type": "code",
   "execution_count": 16,
   "metadata": {},
   "outputs": [
    {
     "name": "stdout",
     "output_type": "stream",
     "text": [
      "Bubble sort: 9.367389917373657\n",
      "Merge sort: 0.04080343246459961\n",
      "Insertion sort: 0.0017743110656738281\n",
      "Shell sort: 0.02201080322265625\n",
      "Selection sort: 3.346344232559204\n"
     ]
    }
   ],
   "source": [
    "#avaliação 5 metodos 100\n",
    "inicio = time.time()\n",
    "bubblesort(V)\n",
    "fim = time.time()\n",
    "print('Bubble sort:', fim - inicio)\n",
    "\n",
    "inicio = time.time()\n",
    "merge_sort(V)\n",
    "fim = time.time()\n",
    "print('Merge sort:', fim - inicio)\n",
    "\n",
    "inicio = time.time()\n",
    "insertion_sort(V)\n",
    "fim = time.time()\n",
    "print('Insertion sort:', fim - inicio)\n",
    "\n",
    "inicio = time.time()\n",
    "shellSort(V)\n",
    "fim = time.time()\n",
    "print('Shell sort:', fim - inicio)\n",
    "\n",
    "inicio = time.time()\n",
    "selection_sort(V)\n",
    "fim = time.time()\n",
    "print('Selection sort:', fim - inicio)\n"
   ]
  },
  {
   "cell_type": "code",
   "execution_count": 10,
   "metadata": {},
   "outputs": [
    {
     "name": "stdout",
     "output_type": "stream",
     "text": [
      "bubblesort: 0.0872189998626709\n",
      "merge_sort: 0.0028934478759765625\n",
      "insertion_sort: 0.00022029876708984375\n",
      "shellSort: 0.0012176036834716797\n",
      "selection_sort: 0.031119585037231445\n"
     ]
    }
   ],
   "source": [
    "#avaliação 5 metodos 1000\n",
    "inicio = time.time()\n",
    "bubblesort(U)\n",
    "fim = time.time()\n",
    "print('bubblesort:', fim - inicio)\n",
    "\n",
    "inicio = time.time()\n",
    "merge_sort(U)\n",
    "fim = time.time()\n",
    "print('merge_sort:', fim - inicio)\n",
    "\n",
    "inicio = time.time()\n",
    "insertion_sort(U)\n",
    "fim = time.time()\n",
    "print('insertion_sort:', fim - inicio)\n",
    "\n",
    "inicio = time.time()\n",
    "shellSort(U)\n",
    "fim = time.time()\n",
    "print('shellSort:', fim - inicio)\n",
    "\n",
    "inicio = time.time()\n",
    "selection_sort(U)\n",
    "fim = time.time()\n",
    "print('selection_sort:', fim - inicio)"
   ]
  },
  {
   "cell_type": "code",
   "execution_count": 17,
   "metadata": {},
   "outputs": [
    {
     "name": "stdout",
     "output_type": "stream",
     "text": [
      "bubblesort: 7.43865966796875e-05\n",
      "merge_sort: 6.246566772460938e-05\n",
      "insertion_sort: 6.103515625e-05\n",
      "shellSort: 5.936622619628906e-05\n",
      "selection_sort: 5.9604644775390625e-05\n"
     ]
    }
   ],
   "source": [
    "#avaliação 5 metodos 10000\n",
    "inicio = time.time()\n",
    "bubblesort(W)\n",
    "fim = time.time()\n",
    "print('bubblesort:', fim - inicio)\n",
    "\n",
    "inicio = time.time()\n",
    "merge_sort(W)\n",
    "fim = time.time()\n",
    "print('merge_sort:', fim - inicio)\n",
    "\n",
    "inicio = time.time()\n",
    "insertion_sort(W)\n",
    "fim = time.time()\n",
    "print('insertion_sort:', fim - inicio)\n",
    "\n",
    "inicio = time.time()\n",
    "shellSort(W)\n",
    "fim = time.time()\n",
    "print('shellSort:', fim - inicio)\n",
    "\n",
    "inicio = time.time()\n",
    "selection_sort(W)\n",
    "fim = time.time()\n",
    "print('selection_sort:', fim - inicio)"
   ]
  },
  {
   "cell_type": "code",
   "execution_count": 1,
   "metadata": {},
   "outputs": [],
   "source": [
    "#avaliação 5 metodos 100000\n",
    "inicio = time.time()\n",
    "bubblesort(Z)\n",
    "fim = time.time()\n",
    "print('bubblesort:', fim - inicio)\n",
    "\n",
    "inicio = time.time()\n",
    "merge_sort(Z)\n",
    "fim = time.time()\n",
    "print('merge_sort:', fim - inicio)\n",
    "\n",
    "inicio = time.time()\n",
    "insertion_sort(Z)\n",
    "fim = time.time()\n",
    "print('insertion_sort:', fim - inicio)\n",
    "\n",
    "inicio = time.time()\n",
    "shellSort(Z)\n",
    "fim = time.time()\n",
    "print('shellSort:', fim - inicio)\n",
    "\n",
    "inicio = time.time()\n",
    "selection_sort(Z)\n",
    "fim = time.time()\n",
    "print('selection_sort:', fim - inicio)\n",
    "\n",
    "#para averiguar o programa basta ir na opção \"Kernel\" e apertar \"Restart and run all\""
   ]
  },
  {
   "cell_type": "markdown",
   "metadata": {},
   "source": [
    "# Resultados\n",
    "\n",
    "## 1º caso\n",
    "\n",
    "### vetor de 100 elementos mais eficiente insertion_sort, e pior desempenho Bubble_Sort\n",
    "\n",
    "Bubble sort: 9.367389917373657\n",
    "Merge sort: 0.04080343246459961\n",
    "Insertion sort: 0.0017743110656738281\n",
    "Shell sort: 0.02201080322265625\n",
    "Selection sort: 3.346344232559204\n",
    "\n",
    "## 2º caso\n",
    "\n",
    "### vetor de 1000 elementos mais eficiente insertion_sort, e pior desempenho Bubble_Sort\n",
    "\n",
    "bubblesort: 0.0872189998626709\n",
    "merge_sort: 0.0028934478759765625\n",
    "insertion_sort: 0.00022029876708984375\n",
    "shellSort: 0.0012176036834716797\n",
    "selection_sort: 0.031119585037231445\n",
    "\n",
    "## 3º caso\n",
    "\n",
    "### vetor de 10000 elementos mais eficiente shellSort, e pior desempenho Bubble_Sort\n",
    "\n",
    "bubblesort: 7.43865966796875e-05\n",
    "merge_sort: 6.246566772460938e-05\n",
    "insertion_sort: 6.103515625e-05\n",
    "shellSort: 5.936622619628906e-05\n",
    "selection_sort: 5.9604644775390625e-05\n",
    "\n",
    "# Conclusão:\n",
    "\n",
    "Nos casos acima é possível averiguar que  pior desempenho em todos os casos foi o Bubble_Sort \n",
    "Eu não o escolheria para um oordenamento grande, e quando o array cresce shell e selection se mostram mais eficientes que o até então insertion que se aproxima bastante dos resultados de merge"
   ]
  },
  {
   "cell_type": "code",
   "execution_count": null,
   "metadata": {},
   "outputs": [],
   "source": []
  }
 ],
 "metadata": {
  "kernelspec": {
   "display_name": "Python 3",
   "language": "python",
   "name": "python3"
  },
  "language_info": {
   "codemirror_mode": {
    "name": "ipython",
    "version": 3
   },
   "file_extension": ".py",
   "mimetype": "text/x-python",
   "name": "python",
   "nbconvert_exporter": "python",
   "pygments_lexer": "ipython3",
   "version": "3.7.3"
  }
 },
 "nbformat": 4,
 "nbformat_minor": 2
}
